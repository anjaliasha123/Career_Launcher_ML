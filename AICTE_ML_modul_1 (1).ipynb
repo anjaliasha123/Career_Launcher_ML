{
  "nbformat": 4,
  "nbformat_minor": 0,
  "metadata": {
    "colab": {
      "name": "AICTE_ML_modul-1.ipynb",
      "provenance": [],
      "toc_visible": true
    },
    "kernelspec": {
      "name": "python3",
      "display_name": "Python 3"
    }
  },
  "cells": [
    {
      "cell_type": "markdown",
      "metadata": {
        "id": "w43d-zxO0EdJ",
        "colab_type": "text"
      },
      "source": [
        "# MODULE 1\n",
        "QYERY 1.1\n",
        "\n",
        "*Import the csv file of the stock you have been allotted using 'pd.read_csv()' function into a dataframe. Shares of a company can be offered in more than one category. The category of a stock is indicated in the ‘Series’ column. If the csv file has data on more than one category, the ‘Date’ column will have repeating values. To avoid repetitions in the date, remove all the rows where 'Series' column is NOT 'EQ'. Analyze and understand each column properly. You'd find the head(), tail() and describe() functions to be immensely useful for exploration. You're free to carry out any other exploration of your own.*\n"
      ]
    },
    {
      "cell_type": "code",
      "metadata": {
        "id": "J76_X_t7z6m1",
        "colab_type": "code",
        "colab": {}
      },
      "source": [
        "import pandas as pd\n",
        "import numpy as np\n",
        "import matplotlib.pyplot as plt\n",
        "import seaborn as sns\n"
      ],
      "execution_count": null,
      "outputs": []
    },
    {
      "cell_type": "code",
      "metadata": {
        "id": "j-nIdzTf06HV",
        "colab_type": "code",
        "colab": {
          "base_uri": "https://localhost:8080/",
          "height": 306
        },
        "outputId": "6a1b82a1-d733-4f1d-97c2-97e1e175f265"
      },
      "source": [
        "#LOADING THE DATA\n",
        "stock_data = pd.read_csv('HEROMOTOCO.csv',parse_dates=['Date'])\n",
        "stock_data.head() #VIEWING THE FIRST FIVE ROWS"
      ],
      "execution_count": null,
      "outputs": [
        {
          "output_type": "execute_result",
          "data": {
            "text/html": [
              "<div>\n",
              "<style scoped>\n",
              "    .dataframe tbody tr th:only-of-type {\n",
              "        vertical-align: middle;\n",
              "    }\n",
              "\n",
              "    .dataframe tbody tr th {\n",
              "        vertical-align: top;\n",
              "    }\n",
              "\n",
              "    .dataframe thead th {\n",
              "        text-align: right;\n",
              "    }\n",
              "</style>\n",
              "<table border=\"1\" class=\"dataframe\">\n",
              "  <thead>\n",
              "    <tr style=\"text-align: right;\">\n",
              "      <th></th>\n",
              "      <th>Symbol</th>\n",
              "      <th>Series</th>\n",
              "      <th>Date</th>\n",
              "      <th>Prev Close</th>\n",
              "      <th>Open Price</th>\n",
              "      <th>High Price</th>\n",
              "      <th>Low Price</th>\n",
              "      <th>Last Price</th>\n",
              "      <th>Close Price</th>\n",
              "      <th>Average Price</th>\n",
              "      <th>Total Traded Quantity</th>\n",
              "      <th>Turnover</th>\n",
              "      <th>No. of Trades</th>\n",
              "      <th>Deliverable Qty</th>\n",
              "      <th>% Dly Qt to Traded Qty</th>\n",
              "    </tr>\n",
              "  </thead>\n",
              "  <tbody>\n",
              "    <tr>\n",
              "      <th>0</th>\n",
              "      <td>HEROMOTOCO</td>\n",
              "      <td>EQ</td>\n",
              "      <td>2017-05-15</td>\n",
              "      <td>3541.50</td>\n",
              "      <td>3541.0</td>\n",
              "      <td>3558.00</td>\n",
              "      <td>3504.60</td>\n",
              "      <td>3518.0</td>\n",
              "      <td>3515.45</td>\n",
              "      <td>3519.65</td>\n",
              "      <td>215587</td>\n",
              "      <td>7.587906e+08</td>\n",
              "      <td>17129</td>\n",
              "      <td>110769</td>\n",
              "      <td>51.38</td>\n",
              "    </tr>\n",
              "    <tr>\n",
              "      <th>1</th>\n",
              "      <td>HEROMOTOCO</td>\n",
              "      <td>EQ</td>\n",
              "      <td>2017-05-16</td>\n",
              "      <td>3515.45</td>\n",
              "      <td>3529.5</td>\n",
              "      <td>3631.80</td>\n",
              "      <td>3491.10</td>\n",
              "      <td>3623.0</td>\n",
              "      <td>3619.40</td>\n",
              "      <td>3561.42</td>\n",
              "      <td>372398</td>\n",
              "      <td>1.326266e+09</td>\n",
              "      <td>33654</td>\n",
              "      <td>147610</td>\n",
              "      <td>39.64</td>\n",
              "    </tr>\n",
              "    <tr>\n",
              "      <th>2</th>\n",
              "      <td>HEROMOTOCO</td>\n",
              "      <td>EQ</td>\n",
              "      <td>2017-05-17</td>\n",
              "      <td>3619.40</td>\n",
              "      <td>3615.0</td>\n",
              "      <td>3683.95</td>\n",
              "      <td>3595.05</td>\n",
              "      <td>3634.1</td>\n",
              "      <td>3645.95</td>\n",
              "      <td>3651.06</td>\n",
              "      <td>338342</td>\n",
              "      <td>1.235308e+09</td>\n",
              "      <td>27003</td>\n",
              "      <td>160855</td>\n",
              "      <td>47.54</td>\n",
              "    </tr>\n",
              "    <tr>\n",
              "      <th>3</th>\n",
              "      <td>HEROMOTOCO</td>\n",
              "      <td>EQ</td>\n",
              "      <td>2017-05-18</td>\n",
              "      <td>3645.95</td>\n",
              "      <td>3600.0</td>\n",
              "      <td>3639.00</td>\n",
              "      <td>3577.05</td>\n",
              "      <td>3586.0</td>\n",
              "      <td>3592.05</td>\n",
              "      <td>3602.46</td>\n",
              "      <td>294013</td>\n",
              "      <td>1.059170e+09</td>\n",
              "      <td>23822</td>\n",
              "      <td>143430</td>\n",
              "      <td>48.78</td>\n",
              "    </tr>\n",
              "    <tr>\n",
              "      <th>4</th>\n",
              "      <td>HEROMOTOCO</td>\n",
              "      <td>EQ</td>\n",
              "      <td>2017-05-19</td>\n",
              "      <td>3592.05</td>\n",
              "      <td>3597.0</td>\n",
              "      <td>3656.00</td>\n",
              "      <td>3533.75</td>\n",
              "      <td>3565.0</td>\n",
              "      <td>3571.65</td>\n",
              "      <td>3593.06</td>\n",
              "      <td>270446</td>\n",
              "      <td>9.717284e+08</td>\n",
              "      <td>26291</td>\n",
              "      <td>113208</td>\n",
              "      <td>41.86</td>\n",
              "    </tr>\n",
              "  </tbody>\n",
              "</table>\n",
              "</div>"
            ],
            "text/plain": [
              "       Symbol Series  ... Deliverable Qty  % Dly Qt to Traded Qty\n",
              "0  HEROMOTOCO     EQ  ...          110769                   51.38\n",
              "1  HEROMOTOCO     EQ  ...          147610                   39.64\n",
              "2  HEROMOTOCO     EQ  ...          160855                   47.54\n",
              "3  HEROMOTOCO     EQ  ...          143430                   48.78\n",
              "4  HEROMOTOCO     EQ  ...          113208                   41.86\n",
              "\n",
              "[5 rows x 15 columns]"
            ]
          },
          "metadata": {
            "tags": []
          },
          "execution_count": 12
        }
      ]
    },
    {
      "cell_type": "code",
      "metadata": {
        "id": "4cBq4HBD1WSw",
        "colab_type": "code",
        "colab": {
          "base_uri": "https://localhost:8080/",
          "height": 391
        },
        "outputId": "95260b84-ca28-436c-d363-1d772788e266"
      },
      "source": [
        "#viewing the information about each column\n",
        "stock_data.info()"
      ],
      "execution_count": null,
      "outputs": [
        {
          "output_type": "stream",
          "text": [
            "<class 'pandas.core.frame.DataFrame'>\n",
            "RangeIndex: 494 entries, 0 to 493\n",
            "Data columns (total 15 columns):\n",
            " #   Column                  Non-Null Count  Dtype         \n",
            "---  ------                  --------------  -----         \n",
            " 0   Symbol                  494 non-null    object        \n",
            " 1   Series                  494 non-null    object        \n",
            " 2   Date                    494 non-null    datetime64[ns]\n",
            " 3   Prev Close              494 non-null    float64       \n",
            " 4   Open Price              494 non-null    float64       \n",
            " 5   High Price              494 non-null    float64       \n",
            " 6   Low Price               494 non-null    float64       \n",
            " 7   Last Price              494 non-null    float64       \n",
            " 8   Close Price             494 non-null    float64       \n",
            " 9   Average Price           494 non-null    float64       \n",
            " 10  Total Traded Quantity   494 non-null    int64         \n",
            " 11  Turnover                494 non-null    float64       \n",
            " 12  No. of Trades           494 non-null    int64         \n",
            " 13  Deliverable Qty         494 non-null    int64         \n",
            " 14  % Dly Qt to Traded Qty  494 non-null    float64       \n",
            "dtypes: datetime64[ns](1), float64(9), int64(3), object(2)\n",
            "memory usage: 58.0+ KB\n"
          ],
          "name": "stdout"
        }
      ]
    },
    {
      "cell_type": "code",
      "metadata": {
        "id": "bXL3hDMJ1qHj",
        "colab_type": "code",
        "colab": {
          "base_uri": "https://localhost:8080/",
          "height": 51
        },
        "outputId": "084d9bc1-b125-4cd1-8b98-403e9d9d4cd6"
      },
      "source": [
        "#series = EQ\n",
        "stock_data['Series'].value_counts()"
      ],
      "execution_count": null,
      "outputs": [
        {
          "output_type": "execute_result",
          "data": {
            "text/plain": [
              "EQ    494\n",
              "Name: Series, dtype: int64"
            ]
          },
          "metadata": {
            "tags": []
          },
          "execution_count": 7
        }
      ]
    },
    {
      "cell_type": "markdown",
      "metadata": {
        "id": "OIolP8TA2msp",
        "colab_type": "text"
      },
      "source": [
        "# QUERY 1.2\n",
        "*Calculate the maximum, minimum and mean price for the last 90 days. (price=Closing Price unless stated otherwise)*"
      ]
    },
    {
      "cell_type": "code",
      "metadata": {
        "id": "m4Wpv4Hy2gVW",
        "colab_type": "code",
        "colab": {
          "base_uri": "https://localhost:8080/",
          "height": 68
        },
        "outputId": "34318e69-af5a-4a6e-cdb0-e12474bab251"
      },
      "source": [
        "#maximum price\n",
        "print(\"Maximum closing price:\",stock_data['Close Price'].tail(90).max())\n",
        "#minimum price\n",
        "print(\"Mininmum closing price:\",stock_data['Close Price'].tail(90).min())\n",
        "#mean price\n",
        "print(\"Mean of closing price:\",stock_data['Close Price'].tail(90).mean())"
      ],
      "execution_count": null,
      "outputs": [
        {
          "output_type": "stream",
          "text": [
            "Maximum closing price: 3127.6\n",
            "Mininmum closing price: 2499.7\n",
            "Mean of closing price: 2720.2794444444453\n"
          ],
          "name": "stdout"
        }
      ]
    },
    {
      "cell_type": "markdown",
      "metadata": {
        "id": "03hLeRql3WBy",
        "colab_type": "text"
      },
      "source": [
        "# QUERY 1.3\n",
        "*Analyse the data types for each column of the dataframe. Pandas knows how to deal with dates in an intelligent manner. But to make use of Pandas functionality for dates, you need to ensure that the column is of type 'datetime64(ns)'. Change the date column from 'object' type to 'datetime64(ns)' for future convenience. See what happens if you subtract the minimum value of the date column from the maximum value.*"
      ]
    },
    {
      "cell_type": "code",
      "metadata": {
        "id": "Hpy7I5fT3TUd",
        "colab_type": "code",
        "colab": {
          "base_uri": "https://localhost:8080/",
          "height": 289
        },
        "outputId": "316dfddc-2f21-4e76-9ccc-215672cd07b7"
      },
      "source": [
        "stock_data.dtypes"
      ],
      "execution_count": null,
      "outputs": [
        {
          "output_type": "execute_result",
          "data": {
            "text/plain": [
              "Symbol                            object\n",
              "Series                            object\n",
              "Date                      datetime64[ns]\n",
              "Prev Close                       float64\n",
              "Open Price                       float64\n",
              "High Price                       float64\n",
              "Low Price                        float64\n",
              "Last Price                       float64\n",
              "Close Price                      float64\n",
              "Average Price                    float64\n",
              "Total Traded Quantity              int64\n",
              "Turnover                         float64\n",
              "No. of Trades                      int64\n",
              "Deliverable Qty                    int64\n",
              "% Dly Qt to Traded Qty           float64\n",
              "dtype: object"
            ]
          },
          "metadata": {
            "tags": []
          },
          "execution_count": 16
        }
      ]
    },
    {
      "cell_type": "code",
      "metadata": {
        "id": "nSLCAAF93usP",
        "colab_type": "code",
        "colab": {
          "base_uri": "https://localhost:8080/",
          "height": 34
        },
        "outputId": "1247502e-0ae8-4de4-e68f-de224d57f0cb"
      },
      "source": [
        "#subtract the minimum value of the date column from the maximum value\n",
        "stock_data['Date'].max() - stock_data['Date'].min()"
      ],
      "execution_count": null,
      "outputs": [
        {
          "output_type": "execute_result",
          "data": {
            "text/plain": [
              "Timedelta('728 days 00:00:00')"
            ]
          },
          "metadata": {
            "tags": []
          },
          "execution_count": 17
        }
      ]
    },
    {
      "cell_type": "markdown",
      "metadata": {
        "id": "o9weHRZk4Edg",
        "colab_type": "text"
      },
      "source": [
        "# QUERY 1.4\n",
        "*In a separate array , calculate the monthwise VWAP (Volume Weighted Average Price ) of the stock. ( VWAP = sum(price*volume)/sum(volume) ) To know more about VWAP , visit - VWAP definition {Hint : Create a new dataframe column ‘Month’. The values for this column can be derived from the ‘Date” column by using appropriate pandas functions. Similarly, create a column ‘Year’ and initialize it. Then use the 'groupby()' function by month and year. Finally, calculate the vwap value for each month (i.e. for each group created). *"
      ]
    },
    {
      "cell_type": "code",
      "metadata": {
        "id": "wPk7Sm6q4OB_",
        "colab_type": "code",
        "colab": {}
      },
      "source": [
        "import datetime\n",
        "stock_data['Month'] = pd.DatetimeIndex(stock_data['Date']).month\n",
        "stock_data['Year'] = pd.DatetimeIndex(stock_data['Date']).year"
      ],
      "execution_count": null,
      "outputs": []
    },
    {
      "cell_type": "code",
      "metadata": {
        "id": "7alfEfYf6AF-",
        "colab_type": "code",
        "colab": {}
      },
      "source": [
        "print(stock_data['Date'],stock_data['Month'],stock_data['Year'])"
      ],
      "execution_count": null,
      "outputs": []
    },
    {
      "cell_type": "code",
      "metadata": {
        "id": "dgPYCTUa6Ki1",
        "colab_type": "code",
        "colab": {
          "base_uri": "https://localhost:8080/",
          "height": 360
        },
        "outputId": "325e1da8-b5c8-4e07-d6f1-9db034076244"
      },
      "source": [
        "#calculate Volume Weighted Average Price\n",
        "stock_data['Close Price x Total Traded Quantity'] = stock_data['Close Price']*stock_data['Total Traded Quantity']\n",
        "stock_data.tail()"
      ],
      "execution_count": null,
      "outputs": [
        {
          "output_type": "execute_result",
          "data": {
            "text/html": [
              "<div>\n",
              "<style scoped>\n",
              "    .dataframe tbody tr th:only-of-type {\n",
              "        vertical-align: middle;\n",
              "    }\n",
              "\n",
              "    .dataframe tbody tr th {\n",
              "        vertical-align: top;\n",
              "    }\n",
              "\n",
              "    .dataframe thead th {\n",
              "        text-align: right;\n",
              "    }\n",
              "</style>\n",
              "<table border=\"1\" class=\"dataframe\">\n",
              "  <thead>\n",
              "    <tr style=\"text-align: right;\">\n",
              "      <th></th>\n",
              "      <th>Symbol</th>\n",
              "      <th>Series</th>\n",
              "      <th>Date</th>\n",
              "      <th>Prev Close</th>\n",
              "      <th>Open Price</th>\n",
              "      <th>High Price</th>\n",
              "      <th>Low Price</th>\n",
              "      <th>Last Price</th>\n",
              "      <th>Close Price</th>\n",
              "      <th>Average Price</th>\n",
              "      <th>Total Traded Quantity</th>\n",
              "      <th>Turnover</th>\n",
              "      <th>No. of Trades</th>\n",
              "      <th>Deliverable Qty</th>\n",
              "      <th>% Dly Qt to Traded Qty</th>\n",
              "      <th>Month</th>\n",
              "      <th>Year</th>\n",
              "      <th>Close Price x Total Traded Quantity</th>\n",
              "    </tr>\n",
              "  </thead>\n",
              "  <tbody>\n",
              "    <tr>\n",
              "      <th>489</th>\n",
              "      <td>HEROMOTOCO</td>\n",
              "      <td>EQ</td>\n",
              "      <td>2019-05-07</td>\n",
              "      <td>2531.30</td>\n",
              "      <td>2567.9</td>\n",
              "      <td>2568.00</td>\n",
              "      <td>2521.50</td>\n",
              "      <td>2529.00</td>\n",
              "      <td>2527.35</td>\n",
              "      <td>2546.23</td>\n",
              "      <td>347427</td>\n",
              "      <td>8.846276e+08</td>\n",
              "      <td>29584</td>\n",
              "      <td>129747</td>\n",
              "      <td>37.35</td>\n",
              "      <td>5</td>\n",
              "      <td>2019</td>\n",
              "      <td>8.780696e+08</td>\n",
              "    </tr>\n",
              "    <tr>\n",
              "      <th>490</th>\n",
              "      <td>HEROMOTOCO</td>\n",
              "      <td>EQ</td>\n",
              "      <td>2019-05-08</td>\n",
              "      <td>2527.35</td>\n",
              "      <td>2525.8</td>\n",
              "      <td>2540.85</td>\n",
              "      <td>2481.60</td>\n",
              "      <td>2496.00</td>\n",
              "      <td>2499.70</td>\n",
              "      <td>2515.26</td>\n",
              "      <td>406025</td>\n",
              "      <td>1.021259e+09</td>\n",
              "      <td>32136</td>\n",
              "      <td>176406</td>\n",
              "      <td>43.45</td>\n",
              "      <td>5</td>\n",
              "      <td>2019</td>\n",
              "      <td>1.014941e+09</td>\n",
              "    </tr>\n",
              "    <tr>\n",
              "      <th>491</th>\n",
              "      <td>HEROMOTOCO</td>\n",
              "      <td>EQ</td>\n",
              "      <td>2019-05-09</td>\n",
              "      <td>2499.70</td>\n",
              "      <td>2499.0</td>\n",
              "      <td>2555.00</td>\n",
              "      <td>2490.60</td>\n",
              "      <td>2540.00</td>\n",
              "      <td>2537.75</td>\n",
              "      <td>2536.33</td>\n",
              "      <td>585480</td>\n",
              "      <td>1.484972e+09</td>\n",
              "      <td>40511</td>\n",
              "      <td>203100</td>\n",
              "      <td>34.69</td>\n",
              "      <td>5</td>\n",
              "      <td>2019</td>\n",
              "      <td>1.485802e+09</td>\n",
              "    </tr>\n",
              "    <tr>\n",
              "      <th>492</th>\n",
              "      <td>HEROMOTOCO</td>\n",
              "      <td>EQ</td>\n",
              "      <td>2019-05-10</td>\n",
              "      <td>2537.75</td>\n",
              "      <td>2535.0</td>\n",
              "      <td>2560.00</td>\n",
              "      <td>2500.05</td>\n",
              "      <td>2506.05</td>\n",
              "      <td>2507.30</td>\n",
              "      <td>2529.09</td>\n",
              "      <td>332771</td>\n",
              "      <td>8.416086e+08</td>\n",
              "      <td>23272</td>\n",
              "      <td>118956</td>\n",
              "      <td>35.75</td>\n",
              "      <td>5</td>\n",
              "      <td>2019</td>\n",
              "      <td>8.343567e+08</td>\n",
              "    </tr>\n",
              "    <tr>\n",
              "      <th>493</th>\n",
              "      <td>HEROMOTOCO</td>\n",
              "      <td>EQ</td>\n",
              "      <td>2019-05-13</td>\n",
              "      <td>2507.30</td>\n",
              "      <td>2507.3</td>\n",
              "      <td>2537.50</td>\n",
              "      <td>2500.00</td>\n",
              "      <td>2509.05</td>\n",
              "      <td>2510.75</td>\n",
              "      <td>2520.21</td>\n",
              "      <td>313902</td>\n",
              "      <td>7.911003e+08</td>\n",
              "      <td>23484</td>\n",
              "      <td>117837</td>\n",
              "      <td>37.54</td>\n",
              "      <td>5</td>\n",
              "      <td>2019</td>\n",
              "      <td>7.881294e+08</td>\n",
              "    </tr>\n",
              "  </tbody>\n",
              "</table>\n",
              "</div>"
            ],
            "text/plain": [
              "         Symbol Series  ...  Year  Close Price x Total Traded Quantity\n",
              "489  HEROMOTOCO     EQ  ...  2019                         8.780696e+08\n",
              "490  HEROMOTOCO     EQ  ...  2019                         1.014941e+09\n",
              "491  HEROMOTOCO     EQ  ...  2019                         1.485802e+09\n",
              "492  HEROMOTOCO     EQ  ...  2019                         8.343567e+08\n",
              "493  HEROMOTOCO     EQ  ...  2019                         7.881294e+08\n",
              "\n",
              "[5 rows x 18 columns]"
            ]
          },
          "metadata": {
            "tags": []
          },
          "execution_count": 22
        }
      ]
    },
    {
      "cell_type": "code",
      "metadata": {
        "id": "lAOEg5rr7dfk",
        "colab_type": "code",
        "colab": {
          "base_uri": "https://localhost:8080/",
          "height": 476
        },
        "outputId": "ea4b0f3f-1d95-404b-ab5a-da01ab1148a9"
      },
      "source": [
        "stock_data.groupby(['Year','Month'])['Close Price x Total Traded Quantity'].sum()/stock_data.groupby(['Year','Month'])['Total Traded Quantity'].sum()\n"
      ],
      "execution_count": null,
      "outputs": [
        {
          "output_type": "execute_result",
          "data": {
            "text/plain": [
              "Year  Month\n",
              "2017  5        3629.756758\n",
              "      6        3762.375207\n",
              "      7        3716.508207\n",
              "      8        3908.552443\n",
              "      9        3864.698451\n",
              "      10       3761.330148\n",
              "      11       3666.117287\n",
              "      12       3639.227876\n",
              "2018  1        3665.168310\n",
              "      2        3562.615022\n",
              "      3        3532.027540\n",
              "      4        3728.259323\n",
              "      5        3596.834895\n",
              "      6        3613.206493\n",
              "      7        3301.331671\n",
              "      8        3270.128244\n",
              "      9        3140.980442\n",
              "      10       2809.534693\n",
              "      11       2949.758444\n",
              "      12       3209.052989\n",
              "2019  1        2803.199283\n",
              "      2        2757.200807\n",
              "      3        2669.353783\n",
              "      4        2614.833935\n",
              "      5        2535.553353\n",
              "dtype: float64"
            ]
          },
          "metadata": {
            "tags": []
          },
          "execution_count": 28
        }
      ]
    },
    {
      "cell_type": "markdown",
      "metadata": {
        "id": "izbbpzkg99uW",
        "colab_type": "text"
      },
      "source": [
        "# QUERY 1.5\n",
        "*Write a function to calculate the average price over the last N days of the stock price data where N is a user defined parameter. Write a second function to calculate the profit/loss percentage over the last N days. Calculate the average price AND the profit/loss percentages over the course of last - 1 week, 2 weeks, 1 month, 3 months, 6 months and 1 year. {Note : Profit/Loss percentage between N days is the percentage change between the closing prices of the 2 days }*"
      ]
    },
    {
      "cell_type": "code",
      "metadata": {
        "id": "ctygqmLa-Di-",
        "colab_type": "code",
        "colab": {}
      },
      "source": [
        "#function to find average over last n days\n",
        "def avg_price(n):\n",
        "    print('The average price of the last {} days are'.format(n))\n",
        "    print(stock_data['Average Price'].tail(n))"
      ],
      "execution_count": null,
      "outputs": []
    },
    {
      "cell_type": "code",
      "metadata": {
        "id": "vA84Uqn7_JoX",
        "colab_type": "code",
        "colab": {}
      },
      "source": [
        "#function to calculate the profit/loss percentage over the last N days\n",
        "def profitperloss(n):\n",
        "  proloss=(stock_data.loc[len(stock_data)-(n-1)]['Average Price']-stock_data.loc[len(stock_data)-1]['Average Price'])/(stock_data.loc[len(stock_data)-(n-1)]['Average Price'])\n",
        "  if(proloss>0):\n",
        "    print('Profit is {} percent'.format(proloss*100))\n",
        "  else:\n",
        "    print('Loss is {} percent'.format(abs(proloss*100)))"
      ],
      "execution_count": null,
      "outputs": []
    },
    {
      "cell_type": "code",
      "metadata": {
        "id": "Du5XrAqn_0n-",
        "colab_type": "code",
        "colab": {
          "base_uri": "https://localhost:8080/",
          "height": 255
        },
        "outputId": "2e669ce0-07a8-471e-86ca-70a91914a6fd"
      },
      "source": [
        "num=int(input('Enter the value of last number of days'))\n",
        "avg_price(num)\n",
        "profitperloss(num)"
      ],
      "execution_count": null,
      "outputs": [
        {
          "output_type": "stream",
          "text": [
            "Enter the value of last number of days10\n",
            "The average price of the last 10 days are\n",
            "484    2599.62\n",
            "485    2519.33\n",
            "486    2544.98\n",
            "487    2567.53\n",
            "488    2541.08\n",
            "489    2546.23\n",
            "490    2515.26\n",
            "491    2536.33\n",
            "492    2529.09\n",
            "493    2520.21\n",
            "Name: Average Price, dtype: float64\n",
            "Loss is 0.034929921844304206 percent\n"
          ],
          "name": "stdout"
        }
      ]
    },
    {
      "cell_type": "markdown",
      "metadata": {
        "id": "VjVgNmEeAZur",
        "colab_type": "text"
      },
      "source": [
        "# QUERY 1.6\n",
        "*Add a column 'Day_Perc_Change' where the values are the daily change in percentages i.e. the percentage change between 2 consecutive day's closing prices. Instead of using the basic mathematical formula for computing the same, use 'pct_change()' function provided by Pandas for dataframes. You will note that the first entry of the column will have a ‘Nan’ value. Why does this happen? Either remove the first row, or set the entry to 0 before proceeding*"
      ]
    },
    {
      "cell_type": "code",
      "metadata": {
        "id": "Ijw1K0aFAd53",
        "colab_type": "code",
        "colab": {
          "base_uri": "https://localhost:8080/",
          "height": 221
        },
        "outputId": "591916df-19eb-47a8-8046-c0f617fe9a46"
      },
      "source": [
        "stock_data['Day_Perc_Change']=(stock_data['Close Price'].pct_change())*100\n",
        "print(stock_data['Close Price'].pct_change())"
      ],
      "execution_count": null,
      "outputs": [
        {
          "output_type": "stream",
          "text": [
            "0           NaN\n",
            "1      0.029569\n",
            "2      0.007335\n",
            "3     -0.014784\n",
            "4     -0.005679\n",
            "         ...   \n",
            "489   -0.001560\n",
            "490   -0.010940\n",
            "491    0.015222\n",
            "492   -0.011999\n",
            "493    0.001376\n",
            "Name: Close Price, Length: 494, dtype: float64\n"
          ],
          "name": "stdout"
        }
      ]
    },
    {
      "cell_type": "markdown",
      "metadata": {
        "id": "FCGQpuSgA_Qh",
        "colab_type": "text"
      },
      "source": [
        "# QUERY 1.7\n",
        " *Add another column 'Trend' whose values are: 'Slight or No change' for 'Day_Perc_Change' in between -0.5 and 0.5 'Slight positive' for 'Day_Perc_Change' in between 0.5 and 1 'Slight negative' for 'Day_Perc_Change' in between -0.5 and -1 'Positive' for 'Day_Perc_Change' in between 1 and 3 'Negative' for 'Day_Perc_Change' in between -1 and -3 'Among top gainers' for 'Day_Perc_Change' in between 3 and 7 'Among top losers' for 'Day_Perc_Change' in between -3 and -7 'Bull run' for 'Day_Perc_Change' >7 'Bear drop' for 'Day_Perc_Change' <-*7*"
      ]
    },
    {
      "cell_type": "code",
      "metadata": {
        "id": "wCFKC3CWA6iA",
        "colab_type": "code",
        "colab": {
          "base_uri": "https://localhost:8080/",
          "height": 34
        },
        "outputId": "2a54bc7d-a29b-4727-d2b6-13d81b6ecd4c"
      },
      "source": [
        "type(stock_data)\n",
        "               \n",
        "                 "
      ],
      "execution_count": null,
      "outputs": [
        {
          "output_type": "execute_result",
          "data": {
            "text/plain": [
              "pandas.core.frame.DataFrame"
            ]
          },
          "metadata": {
            "tags": []
          },
          "execution_count": 54
        }
      ]
    },
    {
      "cell_type": "code",
      "metadata": {
        "id": "TUpe0xTFGuWa",
        "colab_type": "code",
        "colab": {}
      },
      "source": [
        "stock_data['Trend']=None\n",
        "for i in range(494):\n",
        "    if(stock_data.loc[i]['Day_Perc_Change']>-0.5 and stock_data.loc[i]['Day_Perc_Change']<0.5):\n",
        "        stock_data['Trend'][i]='Slight or No change'\n",
        "    elif(stock_data.loc[i]['Day_Perc_Change']>0.5 and stock_data.loc[i]['Day_Perc_Change']<1):\n",
        "        stock_data['Trend'][i]='Slight positive'\n",
        "    elif(stock_data.loc[i]['Day_Perc_Change']>-1 and stock_data.loc[i]['Day_Perc_Change']<-0.5):\n",
        "        stock_data['Trend'][i]='Slight negative'\n",
        "    elif(stock_data.loc[i]['Day_Perc_Change']>-3 and stock_data.loc[i]['Day_Perc_Change']<-1):\n",
        "        stock_data['Trend'][i]='Negative'\n",
        "    elif(stock_data.loc[i]['Day_Perc_Change']>3 and stock_data.loc[i]['Day_Perc_Change']<7):\n",
        "        stock_data['Trend'][i]='Among top gainers'\n",
        "    elif(stock_data.loc[i]['Day_Perc_Change']>-7 and stock_data.loc[i]['Day_Perc_Change']<-3):\n",
        "        stock_data['Trend'][i]='Among top losers'\n",
        "    elif(stock_data.loc[i]['Day_Perc_Change']>7):\n",
        "        stock_data['Trend'][i]='Bull run'\n",
        "    else:\n",
        "        stock_data['Trend'][i]='Bear drop'\n"
      ],
      "execution_count": null,
      "outputs": []
    },
    {
      "cell_type": "code",
      "metadata": {
        "id": "yxPVNusWHcVf",
        "colab_type": "code",
        "colab": {
          "base_uri": "https://localhost:8080/",
          "height": 221
        },
        "outputId": "a4c5fbc8-aa77-481e-c9fc-1b8955f699bc"
      },
      "source": [
        "stock_data['Trend']"
      ],
      "execution_count": null,
      "outputs": [
        {
          "output_type": "execute_result",
          "data": {
            "text/plain": [
              "0                Bear drop\n",
              "1                Bear drop\n",
              "2          Slight positive\n",
              "3                 Negative\n",
              "4          Slight negative\n",
              "              ...         \n",
              "489    Slight or No change\n",
              "490               Negative\n",
              "491              Bear drop\n",
              "492               Negative\n",
              "493    Slight or No change\n",
              "Name: Trend, Length: 494, dtype: object"
            ]
          },
          "metadata": {
            "tags": []
          },
          "execution_count": 73
        }
      ]
    },
    {
      "cell_type": "markdown",
      "metadata": {
        "id": "a23b-cRKJuEJ",
        "colab_type": "text"
      },
      "source": [
        "# QUERY 1.8\n",
        "*Find the average and median values of the column 'Total Traded Quantity' for each of the types of 'Trend'. {Hint : use 'groupby()' on the 'Trend' column and then calculate the average and median values of the column 'Total Traded Quantity'}*"
      ]
    },
    {
      "cell_type": "code",
      "metadata": {
        "id": "VYUWQPbUJnuV",
        "colab_type": "code",
        "colab": {
          "base_uri": "https://localhost:8080/",
          "height": 204
        },
        "outputId": "6a288a53-c9fc-4747-bebd-a40038c919ad"
      },
      "source": [
        "print(\"The average of Total Traded Quantity: \")\n",
        "print(stock_data.groupby('Trend')['Total Traded Quantity'].mean())"
      ],
      "execution_count": null,
      "outputs": [
        {
          "output_type": "stream",
          "text": [
            "The average of Total Traded Quantity: \n",
            "Trend\n",
            "Among top gainers      6.578466e+05\n",
            "Among top losers       9.763052e+05\n",
            "Bear drop              4.854272e+05\n",
            "Bull run               2.742733e+06\n",
            "Negative               4.579074e+05\n",
            "Slight negative        3.724389e+05\n",
            "Slight or No change    3.759908e+05\n",
            "Slight positive        4.221623e+05\n",
            "Name: Total Traded Quantity, dtype: float64\n"
          ],
          "name": "stdout"
        }
      ]
    },
    {
      "cell_type": "code",
      "metadata": {
        "id": "OYucoJlUKS5d",
        "colab_type": "code",
        "colab": {
          "base_uri": "https://localhost:8080/",
          "height": 204
        },
        "outputId": "ac0058db-aca0-4019-c557-dada55e514da"
      },
      "source": [
        "print(\"The median of Total Traded Quantity: \")\n",
        "print(stock_data.groupby('Trend')['Total Traded Quantity'].median())"
      ],
      "execution_count": null,
      "outputs": [
        {
          "output_type": "stream",
          "text": [
            "The median of Total Traded Quantity: \n",
            "Trend\n",
            "Among top gainers       655917.0\n",
            "Among top losers        790491.5\n",
            "Bear drop               383335.0\n",
            "Bull run               2742733.0\n",
            "Negative                394603.0\n",
            "Slight negative         280729.0\n",
            "Slight or No change     309517.0\n",
            "Slight positive         365879.0\n",
            "Name: Total Traded Quantity, dtype: float64\n"
          ],
          "name": "stdout"
        }
      ]
    },
    {
      "cell_type": "markdown",
      "metadata": {
        "id": "hnHLimX5Kcb4",
        "colab_type": "text"
      },
      "source": [
        "# QUERY 1.9\n",
        "SAVE the dataframe with the additional columns computed as a csv file week2.csv."
      ]
    },
    {
      "cell_type": "code",
      "metadata": {
        "id": "eJRG2oNlKdOY",
        "colab_type": "code",
        "colab": {}
      },
      "source": [
        "stock_data.to_csv('week2.csv')"
      ],
      "execution_count": null,
      "outputs": []
    }
  ]
}